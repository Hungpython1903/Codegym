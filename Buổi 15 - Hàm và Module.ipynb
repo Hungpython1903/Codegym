{
 "cells": [
  {
   "cell_type": "markdown",
   "id": "73456e5e",
   "metadata": {},
   "source": [
    "# Hàm\n",
    "\n",
    "### Hàm\n",
    "\n",
    "Cú pháp:\n",
    "\n",
    "`def <tên hàm>(<tham số)>:\n",
    "    //Nội dung hàm`\n",
    "\n",
    "Gọi hàm:\n",
    "`<tên hàm>(<giá trị đầu vào>)`\n",
    "\n",
    "Ví dụ:\n",
    "\n",
    "Hãy viết 1 hàm số để tính tổng 2 số đầu vào và in nó ra màn hình"
   ]
  },
  {
   "cell_type": "code",
   "execution_count": 9,
   "id": "af5b9f6d",
   "metadata": {},
   "outputs": [
    {
     "name": "stdout",
     "output_type": "stream",
     "text": [
      "hello\n",
      "hello\n",
      "hello\n"
     ]
    }
   ],
   "source": [
    "def ham():\n",
    "    for i in range(3):\n",
    "        print('hello')\n",
    "ham()\n",
    "\n",
    "    \n",
    "   "
   ]
  },
  {
   "cell_type": "code",
   "execution_count": 10,
   "id": "2cce1af1",
   "metadata": {},
   "outputs": [
    {
     "name": "stdout",
     "output_type": "stream",
     "text": [
      "6\n"
     ]
    }
   ],
   "source": [
    "def hieu(a,b):\n",
    "    hieuu=abs(a-b)\n",
    "    print(hieuu)\n",
    "hieu(4,10)\n",
    "    "
   ]
  },
  {
   "cell_type": "markdown",
   "id": "a7c39f47",
   "metadata": {},
   "source": [
    "### Giá trị trả về của hàm\n",
    "\n",
    "# return\n",
    "\n",
    "Cú pháp:\n",
    "\n",
    "`retrun <giá trị trả về`\n",
    "\n",
    "##### Lưu ý: Sau khi thực hiện lệnh return, chương trình sẽ thoát khỏi hàm ngay lập tức (những lệnh sau đó không được thực hiện)\n",
    "\n",
    "Ví dụ:\n",
    "\n",
    "Hãy viết 1 hàm trả về giá trị trung bình của 2 số bất kỳ"
   ]
  },
  {
   "cell_type": "code",
   "execution_count": 5,
   "id": "205a1dbb",
   "metadata": {},
   "outputs": [
    {
     "data": {
      "text/plain": [
       "('giá trị truyệt đối của a là: ', 20)"
      ]
     },
     "execution_count": 5,
     "metadata": {},
     "output_type": "execute_result"
    }
   ],
   "source": [
    "def trituyetdoi(a):\n",
    "    if a>0:\n",
    "        a=a\n",
    "        return('Giá trị tuyệt đối của a là: ',a)\n",
    "    else:\n",
    "        a=a*-1\n",
    "        return('giá trị truyệt đối của a là: ',a)\n",
    "trituyetdoi(-20)\n",
    "           \n",
    "           "
   ]
  },
  {
   "cell_type": "code",
   "execution_count": 3,
   "id": "0b527b95",
   "metadata": {},
   "outputs": [
    {
     "data": {
      "text/plain": [
       "992"
      ]
     },
     "execution_count": 3,
     "metadata": {},
     "output_type": "execute_result"
    }
   ],
   "source": [
    "def tich(a,b):\n",
    "    return a*b\n",
    "def thuong(a,b):\n",
    "    return a/b\n",
    "def giaithua(a):\n",
    "    for i in range(a):\n",
    "        b=a*i\n",
    "    return b\n",
    "giaithua(32)\n"
   ]
  },
  {
   "cell_type": "markdown",
   "id": "1d7f8db0",
   "metadata": {},
   "source": [
    "### Bài tập"
   ]
  },
  {
   "cell_type": "markdown",
   "id": "75fb488b",
   "metadata": {},
   "source": [
    "Viết hàm kiểm tra số nguyên tố"
   ]
  },
  {
   "cell_type": "code",
   "execution_count": 29,
   "id": "63701bd7",
   "metadata": {},
   "outputs": [
    {
     "data": {
      "text/plain": [
       "False"
      ]
     },
     "execution_count": 29,
     "metadata": {},
     "output_type": "execute_result"
    }
   ],
   "source": [
    "def check(a):\n",
    "    dem = 0 \n",
    "    for i in range(1,a):\n",
    "        if (a%i==0):\n",
    "            dem+=1\n",
    "    if (dem==2):\n",
    "        return True\n",
    "    return False\n",
    "check(10)\n"
   ]
  },
  {
   "cell_type": "markdown",
   "id": "221103cf",
   "metadata": {},
   "source": [
    "Nhập vào 3 điểm toán, lý, hóa\n",
    "\n",
    "Hãy viết hàm in điểm trung bung bình rồi tính điểm trung bình của toán lý, toán hóa, lý hóa và toán lý hóa"
   ]
  },
  {
   "cell_type": "code",
   "execution_count": 14,
   "id": "1ba1d8ae",
   "metadata": {},
   "outputs": [
    {
     "name": "stdout",
     "output_type": "stream",
     "text": [
      "Nhập điểm toán:6\n",
      "Nhập điểm lý:7\n",
      "Nhập điểm hóa:8\n",
      "6.5 Điểm trung bình Toán và Lý\n",
      "7.0 Điểm trung bình Toán và Hóa\n",
      "7.5 Điểm trung bình Lý và Hóa\n",
      "(7.0, 'Điểm trung bình 3 môn')\n",
      "None\n"
     ]
    }
   ],
   "source": [
    "def diemTb():\n",
    "    a=float(input('Nhập điểm toán:'))\n",
    "    b=float(input('Nhập điểm lý:'))\n",
    "    c=float(input('Nhập điểm hóa:'))\n",
    "    tb=(a+b+c)/3\n",
    "    return tb,'Điểm trung bình 3 môn'\n",
    "def diemTb2mon(a,b,c):\n",
    "    TL=(a+b)/2\n",
    "    print(TL,'Điểm trung bình Toán và Lý') \n",
    "    TH=(a+c)/2\n",
    "    print(TH,'Điểm trung bình Toán và Hóa')\n",
    "    LH=(c+b)/2\n",
    "    print(LH ,\"Điểm trung bình Lý và Hóa\") \n",
    "p=diemTb()\n",
    "h=diemTb2mon(6,7,8)\n",
    "print(p)\n",
    "print(h)\n",
    "    \n",
    "\n",
    "\n",
    " \n",
    "    \n"
   ]
  },
  {
   "cell_type": "markdown",
   "id": "50f43307",
   "metadata": {},
   "source": [
    "Viết hàm đếm số lượng từ của một chuỗi đưa vào"
   ]
  },
  {
   "cell_type": "code",
   "execution_count": 2,
   "id": "be785b29",
   "metadata": {},
   "outputs": [
    {
     "name": "stdout",
     "output_type": "stream",
     "text": [
      "Nhập vào chuỗi: how is your day\n",
      "4\n"
     ]
    }
   ],
   "source": [
    "def demsl():\n",
    "    chuoi=input('Nhập vào chuỗi: ')\n",
    "    a=chuoi +\" \"\n",
    "    return(a.count(\" \"))\n",
    "b=demsl()\n",
    "print(b)"
   ]
  },
  {
   "cell_type": "markdown",
   "id": "b4adef40",
   "metadata": {},
   "source": [
    "Viết một hàm vẽ hình tròn, một hàm vẽ hình vuông và một hàm vẽ hình tam giác đều (giá trị đầu vào là a)\n",
    "\n",
    "Tất cả hàm này, bắt đầu từ 1 vị trí, sau khi vẽ ra, con trỏ sẽ tiến tới vị trí tiếp theo, cách vì đầu một khoảng a + 10 theo chiều x từ trái sang"
   ]
  },
  {
   "cell_type": "code",
   "execution_count": 2,
   "id": "e405d1d4",
   "metadata": {},
   "outputs": [
    {
     "name": "stdout",
     "output_type": "stream",
     "text": [
      "Nhập a:50\n",
      "Nhập vào chuỗi:tròn,vuông,tam giác,vuông,tròn\n"
     ]
    }
   ],
   "source": []
  }
 ],
 "metadata": {
  "kernelspec": {
   "display_name": "Python 3 (ipykernel)",
   "language": "python",
   "name": "python3"
  },
  "language_info": {
   "codemirror_mode": {
    "name": "ipython",
    "version": 3
   },
   "file_extension": ".py",
   "mimetype": "text/x-python",
   "name": "python",
   "nbconvert_exporter": "python",
   "pygments_lexer": "ipython3",
   "version": "3.9.7"
  }
 },
 "nbformat": 4,
 "nbformat_minor": 5
}
